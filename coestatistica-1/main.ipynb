{
 "cells": [
  {
   "cell_type": "code",
   "execution_count": null,
   "metadata": {},
   "outputs": [],
   "source": [
    "import pandas as pd\n",
    "import numpy as np\n",
    "from pandas_profiling import ProfileReport\n",
    "\n",
    "\n",
    "\n"
   ]
  },
  {
   "cell_type": "code",
   "execution_count": null,
   "metadata": {
    "pycharm": {
     "name": "#%%\n"
    }
   },
   "outputs": [],
   "source": [
    "\n",
    "df = pd.read_csv('desafio1.csv')"
   ]
  },
  {
   "cell_type": "code",
   "execution_count": null,
   "metadata": {
    "pycharm": {
     "name": "#%%\n"
    }
   },
   "outputs": [],
   "source": [
    "\n",
    "profile = ProfileReport(df, title = 'Análise das variáveis', explorative=True)\n",
    "profile"
   ]
  },
  {
   "cell_type": "code",
   "execution_count": null,
   "metadata": {
    "pycharm": {
     "name": "#%%\n"
    }
   },
   "outputs": [],
   "source": [
    "df.head()\n",
    "df= df[['estado_residencia','pontuacao_credito']]"
   ]
  },
  {
   "cell_type": "code",
   "execution_count": 60,
   "metadata": {
    "pycharm": {
     "name": "#%%\n"
    }
   },
   "outputs": [
    {
     "name": "stdout",
     "output_type": "stream",
     "text": [
      "RS:\n",
      " Moda [850]\n",
      " Mediana:650.0\n",
      " Media: 651.1051428571428\n",
      "SC:\n",
      " Moda [850]\n",
      " Mediana:653.0\n",
      " Media: 649.5376527422563\n",
      "PR:\n",
      " Moda [850]\n",
      " Mediana:650.0\n",
      " Media: 648.9612940496822\n"
     ]
    }
   ],
   "source": [
    "from scipy.stats import mode\n",
    "\n",
    "df.groupby('estado_residencia').mean()\n",
    "#df.groupby('estado_residencia').std()\n",
    "#df.groupby('estado_residencia').mode()\n",
    "\n",
    "rs = np.array(df[df.estado_residencia == 'RS']['pontuacao_credito'])\n",
    "sc = np.array(df[df.estado_residencia == 'SC']['pontuacao_credito'])\n",
    "pr = np.array(df[df.estado_residencia == 'PR']['pontuacao_credito'])\n",
    "\n",
    "rs_mode , counts = mode(rs)\n",
    "sc_mode , counts = mode(sc)\n",
    "pr_mode , counts = mode(pr)\n",
    "\n",
    "print(\"RS:\\n Moda {}\\n Mediana:{}\\n Media: {}\".format(rs_mode, np.median(rs), np.mean(rs)))\n",
    "print(\"SC:\\n Moda {}\\n Mediana:{}\\n Media: {}\".format(sc_mode, np.median(sc), np.mean(sc)))\n",
    "print(\"PR:\\n Moda {}\\n Mediana:{}\\n Media: {}\".format(pr_mode, np.median(pr), np.mean(pr)))\n",
    "\n"
   ]
  },
  {
   "cell_type": "code",
   "execution_count": 61,
   "metadata": {
    "pycharm": {
     "name": "#%%\n"
    }
   },
   "outputs": [],
   "source": [
    "import json\n",
    "data = df.groupby('estado_residencia').agg({'pontuacao_credito': [ pd.Series.mode,'median','mean', 'std']})\n",
    "data.columns = ['moda', 'mediana', 'media', 'desvio_padrao']\n",
    "data.to_json('submission.json',orient='index')"
   ]
  }
 ],
 "metadata": {
  "kernelspec": {
   "display_name": "Python 3",
   "language": "python",
   "name": "python3"
  },
  "language_info": {
   "codemirror_mode": {
    "name": "ipython",
    "version": 3
   },
   "file_extension": ".py",
   "mimetype": "text/x-python",
   "name": "python",
   "nbconvert_exporter": "python",
   "pygments_lexer": "ipython3",
   "version": "3.7.3"
  }
 },
 "nbformat": 4,
 "nbformat_minor": 1
}
